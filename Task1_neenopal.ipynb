{
 "cells": [
  {
   "cell_type": "markdown",
   "id": "30b0959b",
   "metadata": {},
   "source": [
    "## Payal Dhekwar\n",
    "\n",
    "### NeenOpal Task-1: Records matching Task"
   ]
  },
  {
   "cell_type": "code",
   "execution_count": 1,
   "id": "76450f2f",
   "metadata": {},
   "outputs": [],
   "source": [
    "#Importing the required libraries\n",
    "import numpy as np\n",
    "import pandas as pd"
   ]
  },
  {
   "cell_type": "code",
   "execution_count": 2,
   "id": "ae641ba7",
   "metadata": {},
   "outputs": [
    {
     "name": "stdout",
     "output_type": "stream",
     "text": [
      "            Order ID       Product ID  Qty\n",
      "0     CA-2014-100006  TEC-PH-10002075    3\n",
      "1     CA-2014-100090  FUR-TA-10003715    3\n",
      "2     CA-2014-100090  OFF-BI-10001597    6\n",
      "3     CA-2014-100293  OFF-PA-10000176    6\n",
      "4     CA-2014-100328  OFF-BI-10000343    1\n",
      "...              ...              ...  ...\n",
      "9473  US-2017-169551  OFF-PA-10004100    3\n",
      "9474  US-2017-169551  OFF-ST-10004835    3\n",
      "9475  US-2017-169551  TEC-AC-10002018    3\n",
      "9476  US-2017-169551  TEC-AC-10003033    2\n",
      "9477  US-2017-169551  TEC-PH-10001363    2\n",
      "\n",
      "[9478 rows x 3 columns]\n"
     ]
    },
    {
     "data": {
      "text/plain": [
       "(None,\n",
       "             Order ID       Product ID  Qty\n",
       " 0     CA-2014-100090  FUR-TA-10003715    3\n",
       " 1     CA-2014-100090  OFF-BI-10001597    6\n",
       " 2     CA-2014-100293  OFF-PA-10000176    6\n",
       " 3     CA-2014-100328  OFF-BI-10000343    1\n",
       " 4     CA-2014-100363  OFF-FA-10000611    2\n",
       " ...              ...              ...  ...\n",
       " 9474  US-2017-169551  OFF-PA-10004100    3\n",
       " 9475  US-2017-169551  OFF-ST-10004835    3\n",
       " 9476  US-2017-169551  TEC-AC-10002018    3\n",
       " 9477  US-2017-169551  TEC-AC-10003033    2\n",
       " 9478  US-2017-169551  TEC-PH-10001363    2\n",
       " \n",
       " [9479 rows x 3 columns])"
      ]
     },
     "execution_count": 2,
     "metadata": {},
     "output_type": "execute_result"
    }
   ],
   "source": [
    "data1=pd.read_csv(r'C:\\Users\\OWNER\\Downloads\\Data1.csv')\n",
    "data2=pd.read_csv(r'C:\\Users\\OWNER\\Downloads\\Data2.csv')\n",
    "print(data1),(data2)\n"
   ]
  },
  {
   "cell_type": "markdown",
   "id": "e7dd785a",
   "metadata": {},
   "source": [
    "##### Combining Order ID + Product ID of data1\n"
   ]
  },
  {
   "cell_type": "code",
   "execution_count": 3,
   "id": "9347ad09",
   "metadata": {},
   "outputs": [],
   "source": [
    "data1['OP ID1']=data1['Order ID']+ \"\" +data1['Product ID']"
   ]
  },
  {
   "cell_type": "code",
   "execution_count": 4,
   "id": "9272c056",
   "metadata": {},
   "outputs": [
    {
     "data": {
      "text/html": [
       "<div>\n",
       "<style scoped>\n",
       "    .dataframe tbody tr th:only-of-type {\n",
       "        vertical-align: middle;\n",
       "    }\n",
       "\n",
       "    .dataframe tbody tr th {\n",
       "        vertical-align: top;\n",
       "    }\n",
       "\n",
       "    .dataframe thead th {\n",
       "        text-align: right;\n",
       "    }\n",
       "</style>\n",
       "<table border=\"1\" class=\"dataframe\">\n",
       "  <thead>\n",
       "    <tr style=\"text-align: right;\">\n",
       "      <th></th>\n",
       "      <th>Order ID</th>\n",
       "      <th>Product ID</th>\n",
       "      <th>Qty</th>\n",
       "      <th>OP ID1</th>\n",
       "    </tr>\n",
       "  </thead>\n",
       "  <tbody>\n",
       "    <tr>\n",
       "      <th>0</th>\n",
       "      <td>CA-2014-100006</td>\n",
       "      <td>TEC-PH-10002075</td>\n",
       "      <td>3</td>\n",
       "      <td>CA-2014-100006TEC-PH-10002075</td>\n",
       "    </tr>\n",
       "    <tr>\n",
       "      <th>1</th>\n",
       "      <td>CA-2014-100090</td>\n",
       "      <td>FUR-TA-10003715</td>\n",
       "      <td>3</td>\n",
       "      <td>CA-2014-100090FUR-TA-10003715</td>\n",
       "    </tr>\n",
       "    <tr>\n",
       "      <th>2</th>\n",
       "      <td>CA-2014-100090</td>\n",
       "      <td>OFF-BI-10001597</td>\n",
       "      <td>6</td>\n",
       "      <td>CA-2014-100090OFF-BI-10001597</td>\n",
       "    </tr>\n",
       "    <tr>\n",
       "      <th>3</th>\n",
       "      <td>CA-2014-100293</td>\n",
       "      <td>OFF-PA-10000176</td>\n",
       "      <td>6</td>\n",
       "      <td>CA-2014-100293OFF-PA-10000176</td>\n",
       "    </tr>\n",
       "    <tr>\n",
       "      <th>4</th>\n",
       "      <td>CA-2014-100328</td>\n",
       "      <td>OFF-BI-10000343</td>\n",
       "      <td>1</td>\n",
       "      <td>CA-2014-100328OFF-BI-10000343</td>\n",
       "    </tr>\n",
       "  </tbody>\n",
       "</table>\n",
       "</div>"
      ],
      "text/plain": [
       "         Order ID       Product ID  Qty                         OP ID1\n",
       "0  CA-2014-100006  TEC-PH-10002075    3  CA-2014-100006TEC-PH-10002075\n",
       "1  CA-2014-100090  FUR-TA-10003715    3  CA-2014-100090FUR-TA-10003715\n",
       "2  CA-2014-100090  OFF-BI-10001597    6  CA-2014-100090OFF-BI-10001597\n",
       "3  CA-2014-100293  OFF-PA-10000176    6  CA-2014-100293OFF-PA-10000176\n",
       "4  CA-2014-100328  OFF-BI-10000343    1  CA-2014-100328OFF-BI-10000343"
      ]
     },
     "execution_count": 4,
     "metadata": {},
     "output_type": "execute_result"
    }
   ],
   "source": [
    "data1.head()"
   ]
  },
  {
   "cell_type": "markdown",
   "id": "b31e6867",
   "metadata": {},
   "source": [
    "##### Combining Order ID +Product ID of data2"
   ]
  },
  {
   "cell_type": "code",
   "execution_count": 5,
   "id": "9f822e9a",
   "metadata": {},
   "outputs": [],
   "source": [
    "data2['OP ID2']=data2['Order ID']+\"\"+data2['Product ID']"
   ]
  },
  {
   "cell_type": "code",
   "execution_count": 6,
   "id": "4d797285",
   "metadata": {},
   "outputs": [
    {
     "data": {
      "text/html": [
       "<div>\n",
       "<style scoped>\n",
       "    .dataframe tbody tr th:only-of-type {\n",
       "        vertical-align: middle;\n",
       "    }\n",
       "\n",
       "    .dataframe tbody tr th {\n",
       "        vertical-align: top;\n",
       "    }\n",
       "\n",
       "    .dataframe thead th {\n",
       "        text-align: right;\n",
       "    }\n",
       "</style>\n",
       "<table border=\"1\" class=\"dataframe\">\n",
       "  <thead>\n",
       "    <tr style=\"text-align: right;\">\n",
       "      <th></th>\n",
       "      <th>Order ID</th>\n",
       "      <th>Product ID</th>\n",
       "      <th>Qty</th>\n",
       "      <th>OP ID2</th>\n",
       "    </tr>\n",
       "  </thead>\n",
       "  <tbody>\n",
       "    <tr>\n",
       "      <th>0</th>\n",
       "      <td>CA-2014-100090</td>\n",
       "      <td>FUR-TA-10003715</td>\n",
       "      <td>3</td>\n",
       "      <td>CA-2014-100090FUR-TA-10003715</td>\n",
       "    </tr>\n",
       "    <tr>\n",
       "      <th>1</th>\n",
       "      <td>CA-2014-100090</td>\n",
       "      <td>OFF-BI-10001597</td>\n",
       "      <td>6</td>\n",
       "      <td>CA-2014-100090OFF-BI-10001597</td>\n",
       "    </tr>\n",
       "    <tr>\n",
       "      <th>2</th>\n",
       "      <td>CA-2014-100293</td>\n",
       "      <td>OFF-PA-10000176</td>\n",
       "      <td>6</td>\n",
       "      <td>CA-2014-100293OFF-PA-10000176</td>\n",
       "    </tr>\n",
       "    <tr>\n",
       "      <th>3</th>\n",
       "      <td>CA-2014-100328</td>\n",
       "      <td>OFF-BI-10000343</td>\n",
       "      <td>1</td>\n",
       "      <td>CA-2014-100328OFF-BI-10000343</td>\n",
       "    </tr>\n",
       "    <tr>\n",
       "      <th>4</th>\n",
       "      <td>CA-2014-100363</td>\n",
       "      <td>OFF-FA-10000611</td>\n",
       "      <td>2</td>\n",
       "      <td>CA-2014-100363OFF-FA-10000611</td>\n",
       "    </tr>\n",
       "  </tbody>\n",
       "</table>\n",
       "</div>"
      ],
      "text/plain": [
       "         Order ID       Product ID  Qty                         OP ID2\n",
       "0  CA-2014-100090  FUR-TA-10003715    3  CA-2014-100090FUR-TA-10003715\n",
       "1  CA-2014-100090  OFF-BI-10001597    6  CA-2014-100090OFF-BI-10001597\n",
       "2  CA-2014-100293  OFF-PA-10000176    6  CA-2014-100293OFF-PA-10000176\n",
       "3  CA-2014-100328  OFF-BI-10000343    1  CA-2014-100328OFF-BI-10000343\n",
       "4  CA-2014-100363  OFF-FA-10000611    2  CA-2014-100363OFF-FA-10000611"
      ]
     },
     "execution_count": 6,
     "metadata": {},
     "output_type": "execute_result"
    }
   ],
   "source": [
    "data2.head()"
   ]
  },
  {
   "cell_type": "markdown",
   "id": "f3be4526",
   "metadata": {},
   "source": [
    "##### Combine data1 and data2 "
   ]
  },
  {
   "cell_type": "code",
   "execution_count": 7,
   "id": "725e4d2a",
   "metadata": {},
   "outputs": [
    {
     "data": {
      "text/html": [
       "<div>\n",
       "<style scoped>\n",
       "    .dataframe tbody tr th:only-of-type {\n",
       "        vertical-align: middle;\n",
       "    }\n",
       "\n",
       "    .dataframe tbody tr th {\n",
       "        vertical-align: top;\n",
       "    }\n",
       "\n",
       "    .dataframe thead th {\n",
       "        text-align: right;\n",
       "    }\n",
       "</style>\n",
       "<table border=\"1\" class=\"dataframe\">\n",
       "  <thead>\n",
       "    <tr style=\"text-align: right;\">\n",
       "      <th></th>\n",
       "      <th>Order ID_x</th>\n",
       "      <th>Product ID_x</th>\n",
       "      <th>Qty_x</th>\n",
       "      <th>OP ID1</th>\n",
       "      <th>Order ID_y</th>\n",
       "      <th>Product ID_y</th>\n",
       "      <th>Qty_y</th>\n",
       "      <th>OP ID2</th>\n",
       "    </tr>\n",
       "  </thead>\n",
       "  <tbody>\n",
       "    <tr>\n",
       "      <th>0</th>\n",
       "      <td>CA-2014-100006</td>\n",
       "      <td>TEC-PH-10002075</td>\n",
       "      <td>3.0</td>\n",
       "      <td>CA-2014-100006TEC-PH-10002075</td>\n",
       "      <td>NaN</td>\n",
       "      <td>NaN</td>\n",
       "      <td>NaN</td>\n",
       "      <td>NaN</td>\n",
       "    </tr>\n",
       "    <tr>\n",
       "      <th>1</th>\n",
       "      <td>CA-2014-100090</td>\n",
       "      <td>FUR-TA-10003715</td>\n",
       "      <td>3.0</td>\n",
       "      <td>CA-2014-100090FUR-TA-10003715</td>\n",
       "      <td>CA-2014-100090</td>\n",
       "      <td>FUR-TA-10003715</td>\n",
       "      <td>3.0</td>\n",
       "      <td>CA-2014-100090FUR-TA-10003715</td>\n",
       "    </tr>\n",
       "    <tr>\n",
       "      <th>2</th>\n",
       "      <td>CA-2014-100090</td>\n",
       "      <td>OFF-BI-10001597</td>\n",
       "      <td>6.0</td>\n",
       "      <td>CA-2014-100090OFF-BI-10001597</td>\n",
       "      <td>CA-2014-100090</td>\n",
       "      <td>OFF-BI-10001597</td>\n",
       "      <td>6.0</td>\n",
       "      <td>CA-2014-100090OFF-BI-10001597</td>\n",
       "    </tr>\n",
       "    <tr>\n",
       "      <th>3</th>\n",
       "      <td>CA-2014-100293</td>\n",
       "      <td>OFF-PA-10000176</td>\n",
       "      <td>6.0</td>\n",
       "      <td>CA-2014-100293OFF-PA-10000176</td>\n",
       "      <td>CA-2014-100293</td>\n",
       "      <td>OFF-PA-10000176</td>\n",
       "      <td>6.0</td>\n",
       "      <td>CA-2014-100293OFF-PA-10000176</td>\n",
       "    </tr>\n",
       "    <tr>\n",
       "      <th>4</th>\n",
       "      <td>CA-2014-100328</td>\n",
       "      <td>OFF-BI-10000343</td>\n",
       "      <td>1.0</td>\n",
       "      <td>CA-2014-100328OFF-BI-10000343</td>\n",
       "      <td>CA-2014-100328</td>\n",
       "      <td>OFF-BI-10000343</td>\n",
       "      <td>1.0</td>\n",
       "      <td>CA-2014-100328OFF-BI-10000343</td>\n",
       "    </tr>\n",
       "  </tbody>\n",
       "</table>\n",
       "</div>"
      ],
      "text/plain": [
       "       Order ID_x     Product ID_x  Qty_x                         OP ID1  \\\n",
       "0  CA-2014-100006  TEC-PH-10002075    3.0  CA-2014-100006TEC-PH-10002075   \n",
       "1  CA-2014-100090  FUR-TA-10003715    3.0  CA-2014-100090FUR-TA-10003715   \n",
       "2  CA-2014-100090  OFF-BI-10001597    6.0  CA-2014-100090OFF-BI-10001597   \n",
       "3  CA-2014-100293  OFF-PA-10000176    6.0  CA-2014-100293OFF-PA-10000176   \n",
       "4  CA-2014-100328  OFF-BI-10000343    1.0  CA-2014-100328OFF-BI-10000343   \n",
       "\n",
       "       Order ID_y     Product ID_y  Qty_y                         OP ID2  \n",
       "0             NaN              NaN    NaN                            NaN  \n",
       "1  CA-2014-100090  FUR-TA-10003715    3.0  CA-2014-100090FUR-TA-10003715  \n",
       "2  CA-2014-100090  OFF-BI-10001597    6.0  CA-2014-100090OFF-BI-10001597  \n",
       "3  CA-2014-100293  OFF-PA-10000176    6.0  CA-2014-100293OFF-PA-10000176  \n",
       "4  CA-2014-100328  OFF-BI-10000343    1.0  CA-2014-100328OFF-BI-10000343  "
      ]
     },
     "execution_count": 7,
     "metadata": {},
     "output_type": "execute_result"
    }
   ],
   "source": [
    "merge_data=data1.merge(data2,how='outer',left_on=['OP ID1'],right_on=['OP ID2'])\n",
    "merge_data.head()"
   ]
  },
  {
   "cell_type": "markdown",
   "id": "a7d02111",
   "metadata": {},
   "source": [
    "#### Question_(1) How to identify the Records (Order ID + Product ID combination) present in data1 but missing in data2 (Specify the number of records missing in your answer)\n",
    "\n",
    "### Answer1: 507"
   ]
  },
  {
   "cell_type": "code",
   "execution_count": 8,
   "id": "d007ab75",
   "metadata": {},
   "outputs": [
    {
     "name": "stdout",
     "output_type": "stream",
     "text": [
      "507\n"
     ]
    }
   ],
   "source": [
    "Answer1=set(data1['OP ID1']).difference(set(data2['OP ID2']))\n",
    "print(len(Answer1))"
   ]
  },
  {
   "cell_type": "markdown",
   "id": "26b953f1",
   "metadata": {},
   "source": [
    "#### Question_(2) How to identify the Records (Order ID + Product ID combination) missing in data1 but present in data2 (Specify the number of records missing in your answer)\n",
    "\n",
    "### Answer2: 508"
   ]
  },
  {
   "cell_type": "code",
   "execution_count": 17,
   "id": "d0cb7ba1",
   "metadata": {},
   "outputs": [
    {
     "data": {
      "text/plain": [
       "508"
      ]
     },
     "execution_count": 17,
     "metadata": {},
     "output_type": "execute_result"
    }
   ],
   "source": [
    "Answer2 = merge_data[merge_data['OP ID1'].isna()]\n",
    "Answer2.shape[0]\n",
    "     "
   ]
  },
  {
   "cell_type": "markdown",
   "id": "243c7239",
   "metadata": {},
   "source": [
    "#### Question_(3) Find the Sum of the total Qty of Records missing in data1 but present in data2\n",
    "\n",
    "### Answer3: 1956.0\n"
   ]
  },
  {
   "cell_type": "code",
   "execution_count": 20,
   "id": "184fa008",
   "metadata": {},
   "outputs": [
    {
     "name": "stdout",
     "output_type": "stream",
     "text": [
      "1956.0\n"
     ]
    }
   ],
   "source": [
    "Sum_of_Qty_Records=Answer2['Qty_y'].sum()\n",
    "print(Sum_of_Qty_Records)"
   ]
  },
  {
   "cell_type": "markdown",
   "id": "afed49fe",
   "metadata": {},
   "source": [
    "#### Question_(4) Find the total number of unique records (Order ID + Product ID combination) present in the combined dataset of data1 and data2\n",
    "\n",
    "### Answer4: 9986\n"
   ]
  },
  {
   "cell_type": "code",
   "execution_count": 28,
   "id": "09dffd5d",
   "metadata": {},
   "outputs": [
    {
     "data": {
      "text/plain": [
       "9986"
      ]
     },
     "execution_count": 28,
     "metadata": {},
     "output_type": "execute_result"
    }
   ],
   "source": [
    "merge_data.shape[0]"
   ]
  },
  {
   "cell_type": "code",
   "execution_count": null,
   "id": "affad6e0",
   "metadata": {},
   "outputs": [],
   "source": []
  }
 ],
 "metadata": {
  "kernelspec": {
   "display_name": "Python 3",
   "language": "python",
   "name": "python3"
  },
  "language_info": {
   "codemirror_mode": {
    "name": "ipython",
    "version": 3
   },
   "file_extension": ".py",
   "mimetype": "text/x-python",
   "name": "python",
   "nbconvert_exporter": "python",
   "pygments_lexer": "ipython3",
   "version": "3.8.8"
  }
 },
 "nbformat": 4,
 "nbformat_minor": 5
}
